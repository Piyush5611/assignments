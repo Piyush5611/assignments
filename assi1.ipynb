{
 "cells": [
  {
   "cell_type": "markdown",
   "id": "fd2df001",
   "metadata": {},
   "source": [
    "# Q.1 \n",
    "* = Mathematical Operators\n",
    "'hello' = String\n",
    "-87.8 = float\n",
    "- = Mathematical Operators\n",
    "/ = Mathematical Operators\n",
    "+ = Mathematical Operators\n",
    "6 = Integer \n",
    "\n",
    "# Q.2\n",
    "Ans:- \n",
    "    String:- String is type of Variable. eg:- 'hello'\n",
    "    Vaariable:- Variable is used to store the information \n",
    "        \n",
    "# Q.3\n",
    "Ans:- Three different data types are:-\n",
    "\n",
    "    1. int=int is used to store the integer value eg:- 3\n",
    "    2. char= char is used to store the character eg:- 'a'\n",
    "    3. str= str is used to store the string eg:- 'hello'\n",
    "        \n",
    "# Q.4 \n",
    "Ans:- Expression are made up of with operator and operands to produce some other value.\n",
    "\n",
    "\n",
    "# Q.5\n",
    "Ans:- Expression is a combination of operators and operands\n",
    "      Statement is an instruction that the Python interpreter can execute.\n",
    "\n",
    "# Q.6\n",
    "Ans:- 23\n",
    "    \n",
    "    \n",
    "# Q.7\n",
    "Ans:- 'spamspamspam'\n",
    "    \n",
    "# Q.8\n",
    "Ans:- Variable can not start with number.\n",
    "\n",
    "# Q.9\n",
    "Ans:- Integer:- int()\n",
    "      Floating-point number:- float()\n",
    "      String:- str()\n",
    "      \n",
    "# Q.10\n",
    "Ans:- TypeError \n",
    "We fix it with the help of typeCasting i.e. 'I have eaten' + str(99) + 'burritos.'"
   ]
  },
  {
   "cell_type": "code",
   "execution_count": 1,
   "id": "e5418a95",
   "metadata": {},
   "outputs": [
    {
     "data": {
      "text/plain": [
       "23"
      ]
     },
     "execution_count": 1,
     "metadata": {},
     "output_type": "execute_result"
    }
   ],
   "source": [
    "bacon=22\n",
    "bacon+1"
   ]
  },
  {
   "cell_type": "code",
   "execution_count": 2,
   "id": "60f49860",
   "metadata": {},
   "outputs": [
    {
     "data": {
      "text/plain": [
       "'spamspamspam'"
      ]
     },
     "execution_count": 2,
     "metadata": {},
     "output_type": "execute_result"
    }
   ],
   "source": [
    "'spam'+'spamspam'\n",
    "'spam'*3"
   ]
  },
  {
   "cell_type": "code",
   "execution_count": 3,
   "id": "f6dbaed5",
   "metadata": {},
   "outputs": [],
   "source": [
    "a=5"
   ]
  },
  {
   "cell_type": "code",
   "execution_count": 4,
   "id": "81b8b4bb",
   "metadata": {},
   "outputs": [
    {
     "data": {
      "text/plain": [
       "5.0"
      ]
     },
     "execution_count": 4,
     "metadata": {},
     "output_type": "execute_result"
    }
   ],
   "source": [
    "float(a)"
   ]
  },
  {
   "cell_type": "code",
   "execution_count": 5,
   "id": "09dc4282",
   "metadata": {},
   "outputs": [
    {
     "data": {
      "text/plain": [
       "'I have eaten99burritos.'"
      ]
     },
     "execution_count": 5,
     "metadata": {},
     "output_type": "execute_result"
    }
   ],
   "source": [
    "'I have eaten' + str(99) + 'burritos.'"
   ]
  },
  {
   "cell_type": "code",
   "execution_count": 6,
   "id": "e547b951",
   "metadata": {},
   "outputs": [
    {
     "ename": "ZeroDivisionError",
     "evalue": "division by zero",
     "output_type": "error",
     "traceback": [
      "\u001b[1;31m---------------------------------------------------------------------------\u001b[0m",
      "\u001b[1;31mZeroDivisionError\u001b[0m                         Traceback (most recent call last)",
      "Input \u001b[1;32mIn [6]\u001b[0m, in \u001b[0;36m<cell line: 1>\u001b[1;34m()\u001b[0m\n\u001b[1;32m----> 1\u001b[0m \u001b[38;5;28;43;01mTrue\u001b[39;49;00m\u001b[38;5;241;43m/\u001b[39;49m\u001b[38;5;28;43;01mFalse\u001b[39;49;00m\n",
      "\u001b[1;31mZeroDivisionError\u001b[0m: division by zero"
     ]
    }
   ],
   "source": [
    "True/False"
   ]
  },
  {
   "cell_type": "code",
   "execution_count": null,
   "id": "a3ac2c4b",
   "metadata": {},
   "outputs": [],
   "source": []
  }
 ],
 "metadata": {
  "kernelspec": {
   "display_name": "Python 3 (ipykernel)",
   "language": "python",
   "name": "python3"
  },
  "language_info": {
   "codemirror_mode": {
    "name": "ipython",
    "version": 3
   },
   "file_extension": ".py",
   "mimetype": "text/x-python",
   "name": "python",
   "nbconvert_exporter": "python",
   "pygments_lexer": "ipython3",
   "version": "3.9.12"
  }
 },
 "nbformat": 4,
 "nbformat_minor": 5
}
